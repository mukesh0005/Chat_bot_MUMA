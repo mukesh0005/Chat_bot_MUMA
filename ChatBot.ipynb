{
 "cells": [
  {
   "cell_type": "code",
   "execution_count": 1,
   "id": "57f8e97a",
   "metadata": {},
   "outputs": [
    {
     "data": {
      "text/plain": [
       "True"
      ]
     },
     "execution_count": 1,
     "metadata": {},
     "output_type": "execute_result"
    }
   ],
   "source": [
    "import os\n",
    "\n",
    "\n",
    "from langchain.chat_models import ChatOpenAI\n",
    "from langchain.schema import (\n",
    "    SystemMessage,\n",
    "    HumanMessage,\n",
    "    AIMessage\n",
    ")\n",
    "\n",
    "\n",
    "from dotenv import load_dotenv,find_dotenv\n",
    "load_dotenv(find_dotenv())"
   ]
  },
  {
   "cell_type": "code",
   "execution_count": 2,
   "id": "5b54c45b",
   "metadata": {},
   "outputs": [],
   "source": [
    "OPENAI_API_KEY = os.getenv(\"OPENAI_API_KEY\")\n",
    "PINECONE_API_KEY = os.getenv(\"PINECONE_API_KEY\")\n",
    "PINECONE_INDEX_NAME = os.getenv(\"PINECONE_INDEX_NAME\")\n",
    "PINECONE_ENVIRONMENT = os.getenv(\"PINECONE_ENVIRONMENT\")"
   ]
  },
  {
   "cell_type": "code",
   "execution_count": 3,
   "id": "43bbdbf1",
   "metadata": {},
   "outputs": [],
   "source": [
    "chat = ChatOpenAI(\n",
    "    openai_api_key= OPENAI_API_KEY,\n",
    "    model='gpt-3.5-turbo'\n",
    ")"
   ]
  },
  {
   "cell_type": "code",
   "execution_count": 4,
   "id": "daef89d0",
   "metadata": {},
   "outputs": [],
   "source": [
    "messages = [\n",
    "    SystemMessage(content=\"\"\"You are a helpful assistant assistants on their queries. Don't mention anything about context, if it is provided in prompt.\n",
    "                            Also, make sure the students their UID and email address before solving their queries adn save them. You don't need to verify if they are accurate.\n",
    "                            If you are given that can't be done by you such as sending mails, state that a request has been placed for this to the relevant department\"\"\"),\n",
    "    HumanMessage(content=\"Hi AI, how are you today?\"),\n",
    "    AIMessage(content=\"I'm great thank you. How can I help you?\"),\n",
    "]"
   ]
  },
  {
   "cell_type": "code",
   "execution_count": 5,
   "id": "e68b8d0c",
   "metadata": {},
   "outputs": [
    {
     "data": {
      "text/plain": [
       "AIMessage(content=\"I'm an AI assistant, so I don't have feelings in the same way humans do. But I'm here to assist you with any questions or tasks you have. How can I help you today?\")"
      ]
     },
     "execution_count": 5,
     "metadata": {},
     "output_type": "execute_result"
    }
   ],
   "source": [
    "res = chat(messages)\n",
    "res"
   ]
  },
  {
   "cell_type": "code",
   "execution_count": 6,
   "id": "a3cb8f91",
   "metadata": {},
   "outputs": [
    {
     "name": "stdout",
     "output_type": "stream",
     "text": [
      "Yes, I can help you with any question you have. Just let me know what you need assistance with, and I'll do my best to provide you with the information or guidance you're looking for.\n"
     ]
    }
   ],
   "source": [
    "# add latest AI response to messages\n",
    "messages.append(res)\n",
    "\n",
    "# now create a new user prompt\n",
    "prompt = HumanMessage(\n",
    "    content=\"Can you help me with any question?\"\n",
    ")\n",
    "# add to messages\n",
    "messages.append(prompt)\n",
    "\n",
    "# send to chat-gpt\n",
    "res = chat(messages)\n",
    "\n",
    "print(res.content)"
   ]
  },
  {
   "cell_type": "code",
   "execution_count": 7,
   "id": "6cafcee0",
   "metadata": {},
   "outputs": [
    {
     "name": "stderr",
     "output_type": "stream",
     "text": [
      "C:\\Users\\Uday Ganti\\anaconda3\\lib\\site-packages\\pinecone\\index.py:4: TqdmExperimentalWarning: Using `tqdm.autonotebook.tqdm` in notebook mode. Use `tqdm.tqdm` instead to force console mode (e.g. in jupyter console)\n",
      "  from tqdm.autonotebook import tqdm\n"
     ]
    }
   ],
   "source": [
    "import pinecone\n",
    "\n",
    "# get API key from app.pinecone.io and environment from console\n",
    "pinecone.init(\n",
    "    api_key=os.getenv('PINECONE_API_KEY'),  \n",
    "    environment=os.getenv('PINECONE_ENV')  \n",
    ")"
   ]
  },
  {
   "cell_type": "code",
   "execution_count": 8,
   "id": "4ccd35f6",
   "metadata": {},
   "outputs": [],
   "source": [
    "index_list = pinecone.list_indexes()"
   ]
  },
  {
   "cell_type": "code",
   "execution_count": 9,
   "id": "cafc8ed2",
   "metadata": {},
   "outputs": [],
   "source": [
    "import time\n",
    "\n",
    "if PINECONE_INDEX_NAME not in pinecone.list_indexes():\n",
    "    pinecone.create_index(\n",
    "        PINECONE_INDEX_NAME,\n",
    "        dimension=1536,\n",
    "        metric='cosine'\n",
    "    )\n",
    "    # wait for index to finish initialization\n",
    "    while not pinecone.describe_index(PINECONE_INDEX_NAME).status['ready']:\n",
    "        time.sleep(1)\n",
    "        \n",
    "\n",
    "index = pinecone.Index(PINECONE_INDEX_NAME)"
   ]
  },
  {
   "cell_type": "code",
   "execution_count": 10,
   "id": "a9d31b73",
   "metadata": {},
   "outputs": [
    {
     "data": {
      "text/plain": [
       "{'dimension': 1536,\n",
       " 'index_fullness': 0.05934,\n",
       " 'namespaces': {'': {'vector_count': 5934}},\n",
       " 'total_vector_count': 5934}"
      ]
     },
     "execution_count": 10,
     "metadata": {},
     "output_type": "execute_result"
    }
   ],
   "source": [
    "index.describe_index_stats()"
   ]
  },
  {
   "cell_type": "code",
   "execution_count": 11,
   "id": "97937336",
   "metadata": {},
   "outputs": [],
   "source": [
    "from langchain.embeddings.openai import OpenAIEmbeddings\n",
    "\n",
    "embed_model = OpenAIEmbeddings(model=\"text-embedding-ada-002\")"
   ]
  },
  {
   "cell_type": "code",
   "execution_count": 12,
   "id": "a42da159",
   "metadata": {},
   "outputs": [
    {
     "name": "stderr",
     "output_type": "stream",
     "text": [
      "C:\\Users\\Uday Ganti\\anaconda3\\lib\\site-packages\\langchain\\vectorstores\\pinecone.py:59: UserWarning: Passing in `embedding` as a Callable is deprecated. Please pass in an Embeddings object instead.\n",
      "  warnings.warn(\n"
     ]
    }
   ],
   "source": [
    "from langchain.vectorstores import Pinecone\n",
    "\n",
    "text_field = \"text\"  # the metadata field that contains our text\n",
    "\n",
    "# initialize the vector store object\n",
    "vectorstore = Pinecone(\n",
    "    index, embed_model.embed_query, text_field\n",
    ")"
   ]
  },
  {
   "cell_type": "code",
   "execution_count": 13,
   "id": "0080f407",
   "metadata": {},
   "outputs": [],
   "source": [
    "def augment_prompt(query: str):\n",
    "    # get top 3 results from knowledge base\n",
    "    results = vectorstore.similarity_search(query, k=3)\n",
    "    # get the text from the results\n",
    "    source_knowledge = \"\\n\".join([x.page_content for x in results])\n",
    "    # feed into an augmented prompt\n",
    "    augmented_prompt = f\"\"\"Using the contexts below, answer the query.\n",
    "\n",
    "    Contexts:\n",
    "    {source_knowledge}\n",
    "\n",
    "    Query: {query}\"\"\"\n",
    "    return augmented_prompt"
   ]
  },
  {
   "cell_type": "code",
   "execution_count": 18,
   "id": "e8f81d35",
   "metadata": {
    "scrolled": true
   },
   "outputs": [
    {
     "data": {
      "text/plain": [
       "[Document(page_content=\"Tim SmithAssistant Professor of Instructionsmith515@usf.eduCampus: St. PetersburgRoom: LPH 420Tim Smith is an assistant professor of instruction in the School of Information Systems and Management on USF's St. Petersburg campus. He came to USF in 2022 from Iowa State University, where he was an assistant teaching professor in the Ivy College of Business.Smith's research interests lie in organizational routines, technology adoption processes, business analytics, and enterprise systems development. His work has been published in theJournal of Information Systems Education, theTeaching Mathematics and Computer Sciencejournal, and currently serves as the technical editor for theJournal of Information Systems Education. He has presented research at the Hawaii International Conference on System Sciences, Americas Conference on Information Systems, and International Conference on Information systems. He has also won several awards, including the best paper award at the 2019 DIGIT conference.Smith has over 20 years of industry experience, including founding and leading a software development company, co-developing an operating system, and leading in various engineering and executive roles within the telecommunications industry.He earned a PhD from the Carleton University, a master's degree from Athabasca University, and a bachelor's degree in economics (1st class honors) from the University of New Brunswick.\"),\n",
       " Document(page_content=\"Tom SmithAssociate Professortsmith46@usf.eduRoom: BSN 3503Phone: (813) 974-6597VitaTom Smith is the Grant Thornton Professor, teaching intermediate financial accounting and a PhD seminar in archival accounting. He was awarded the Lynn Pippenger School of Accountancy Advisory Council Outstanding Teaching Award in 2016 and in 2020, he was the recipient of the USF Outstanding Undergraduate Teaching Award.His research appears inAuditing: A Journal of Practice & Theory, International Journal of Accounting Information Systems, The Journal of the American Taxation Association, Journal of Accounting, Auditing, & Finance, Journal of Information Systems, Accounting Horizons, Journal of Financial Research, andAdvances in Accounting. His research interests include banking, auditing, cybersecurity and executive compensation.Smith earned a PhD, MBA and bachelor's degree from Florida State University and is a licensed CPA. He previously taught at Florida Atlantic University, receiving the Professor of the Year Award in 2011.TeachingACG 3113 – Intermediate Financial Accounting IIACG 4123 – Intermediate Financial Accounting IIIACG 7936 – Seminar in Archival Accounting ResearchRecent ResearchSmith, T., A. Tadesse and N. Vincent. (2021). The impact of CIO characteristics on data breaches.International Journal of Accounting Information Systems,43: 100532Huston, G. R., J. Huston, M. Mellon, and T. Smith (2021). What Does an Executive Stock Sale Tell the Market? Evidence from Sale Transactions Following Stock Option Exercises.Journal of Accounting, Auditing, and Finance36(3): 613-642.Smith, T., G. R. Huston, and R. Morton. (2020). Accrual Management and the Decision to Sell or Hold the Shares Acquired from the Exercise of Employee Stock Options.Journal of Financial Reporting,5(1): 115-134.Murthy, U., T. Smith, J. Whitworth and Y. Zhang. (2020). The Effects of Information Systems Compatibility on Firm Performance Following Mergers and Acquisitions.Journal of Information Systems, 34(2): 211-233.Smith, T., J. Higgs, and R. Pinsker. (2019). Do Auditors Price Breach Risk in their Fees?Journal of Information Systems,33(2): 177-204.SERVICEChair, Lynn Pippenger School of Accountancy Undergraduate Curriculum CommitteeMember, Muma College of Business Undergraduate Policy CommitteeMember, Lynn Pippenger School of Accountancy Doctoral Program Committee\"),\n",
       " Document(page_content='Charles \"Chuck\" SmithVisiting Assistant Professor of InstructionCampus: Tampa')]"
      ]
     },
     "execution_count": 18,
     "metadata": {},
     "output_type": "execute_result"
    }
   ],
   "source": [
    "from langchain.vectorstores import Pinecone\n",
    "\n",
    "query = \"What are the classes thought by pTIM SMITH\"\n",
    "\n",
    "vectorstore.similarity_search(query, k=3)"
   ]
  },
  {
   "cell_type": "code",
   "execution_count": 19,
   "id": "5df5f902",
   "metadata": {
    "scrolled": true
   },
   "outputs": [
    {
     "name": "stdout",
     "output_type": "stream",
     "text": [
      "Using the contexts below, answer the query.\n",
      "\n",
      "    Contexts:\n",
      "    Tim SmithAssistant Professor of Instructionsmith515@usf.eduCampus: St. PetersburgRoom: LPH 420Tim Smith is an assistant professor of instruction in the School of Information Systems and Management on USF's St. Petersburg campus. He came to USF in 2022 from Iowa State University, where he was an assistant teaching professor in the Ivy College of Business.Smith's research interests lie in organizational routines, technology adoption processes, business analytics, and enterprise systems development. His work has been published in theJournal of Information Systems Education, theTeaching Mathematics and Computer Sciencejournal, and currently serves as the technical editor for theJournal of Information Systems Education. He has presented research at the Hawaii International Conference on System Sciences, Americas Conference on Information Systems, and International Conference on Information systems. He has also won several awards, including the best paper award at the 2019 DIGIT conference.Smith has over 20 years of industry experience, including founding and leading a software development company, co-developing an operating system, and leading in various engineering and executive roles within the telecommunications industry.He earned a PhD from the Carleton University, a master's degree from Athabasca University, and a bachelor's degree in economics (1st class honors) from the University of New Brunswick.\n",
      "Tom SmithAssociate Professortsmith46@usf.eduRoom: BSN 3503Phone: (813) 974-6597VitaTom Smith is the Grant Thornton Professor, teaching intermediate financial accounting and a PhD seminar in archival accounting. He was awarded the Lynn Pippenger School of Accountancy Advisory Council Outstanding Teaching Award in 2016 and in 2020, he was the recipient of the USF Outstanding Undergraduate Teaching Award.His research appears inAuditing: A Journal of Practice & Theory, International Journal of Accounting Information Systems, The Journal of the American Taxation Association, Journal of Accounting, Auditing, & Finance, Journal of Information Systems, Accounting Horizons, Journal of Financial Research, andAdvances in Accounting. His research interests include banking, auditing, cybersecurity and executive compensation.Smith earned a PhD, MBA and bachelor's degree from Florida State University and is a licensed CPA. He previously taught at Florida Atlantic University, receiving the Professor of the Year Award in 2011.TeachingACG 3113 – Intermediate Financial Accounting IIACG 4123 – Intermediate Financial Accounting IIIACG 7936 – Seminar in Archival Accounting ResearchRecent ResearchSmith, T., A. Tadesse and N. Vincent. (2021). The impact of CIO characteristics on data breaches.International Journal of Accounting Information Systems,43: 100532Huston, G. R., J. Huston, M. Mellon, and T. Smith (2021). What Does an Executive Stock Sale Tell the Market? Evidence from Sale Transactions Following Stock Option Exercises.Journal of Accounting, Auditing, and Finance36(3): 613-642.Smith, T., G. R. Huston, and R. Morton. (2020). Accrual Management and the Decision to Sell or Hold the Shares Acquired from the Exercise of Employee Stock Options.Journal of Financial Reporting,5(1): 115-134.Murthy, U., T. Smith, J. Whitworth and Y. Zhang. (2020). The Effects of Information Systems Compatibility on Firm Performance Following Mergers and Acquisitions.Journal of Information Systems, 34(2): 211-233.Smith, T., J. Higgs, and R. Pinsker. (2019). Do Auditors Price Breach Risk in their Fees?Journal of Information Systems,33(2): 177-204.SERVICEChair, Lynn Pippenger School of Accountancy Undergraduate Curriculum CommitteeMember, Muma College of Business Undergraduate Policy CommitteeMember, Lynn Pippenger School of Accountancy Doctoral Program Committee\n",
      "Charles \"Chuck\" SmithVisiting Assistant Professor of InstructionCampus: Tampa\n",
      "\n",
      "    Query: What are the classes thought by pTIM SMITH\n"
     ]
    }
   ],
   "source": [
    "print(augment_prompt(query))"
   ]
  },
  {
   "cell_type": "code",
   "execution_count": 20,
   "id": "2042f916",
   "metadata": {
    "scrolled": false
   },
   "outputs": [
    {
     "name": "stdout",
     "output_type": "stream",
     "text": [
      "Tim Smith, an Assistant Professor of Instruction, teaches the following classes at USF:\n",
      "\n",
      "1. ACG 3113 – Intermediate Financial Accounting II\n",
      "2. ACG 4123 – Intermediate Financial Accounting III\n",
      "3. ACG 7936 – Seminar in Archival Accounting Research\n",
      "\n",
      "Please note that these classes are related to accounting and not specifically mentioned as being taught by Tim Smith. If you are looking for classes taught by Tim Smith in a different department, please provide more information.\n"
     ]
    }
   ],
   "source": [
    "# create a new user prompt\n",
    "prompt = HumanMessage(\n",
    "    content=augment_prompt(query)\n",
    ")\n",
    "# add to messages\n",
    "messages.append(prompt)\n",
    "\n",
    "res = chat(messages)\n",
    "\n",
    "print(res.content)"
   ]
  },
  {
   "cell_type": "code",
   "execution_count": 17,
   "id": "45ab379a",
   "metadata": {},
   "outputs": [
    {
     "name": "stdout",
     "output_type": "stream",
     "text": [
      "I apologize for the inconvenience. As an AI assistant, I don't have access to personal information or specific application processes. However, it's possible that the application process may take some time, and it's not unusual to not receive immediate feedback. I recommend reaching out to the relevant department or contact person directly to inquire about the status of your application. They will be able to provide you with the most accurate information.\n"
     ]
    }
   ],
   "source": [
    "# now create a new user prompt\n",
    "prompt = HumanMessage(\n",
    "    content=\"I have sent my application 3 days ago and not have not recieved any feedback email about it.\"\n",
    ")\n",
    "# add to messages\n",
    "messages.append(prompt)\n",
    "\n",
    "# send to chat-gpt\n",
    "res = chat(messages)\n",
    "\n",
    "print(res.content)\n",
    "\n",
    "messages.append(res)"
   ]
  }
 ],
 "metadata": {
  "kernelspec": {
   "display_name": "Python 3 (ipykernel)",
   "language": "python",
   "name": "python3"
  },
  "language_info": {
   "codemirror_mode": {
    "name": "ipython",
    "version": 3
   },
   "file_extension": ".py",
   "mimetype": "text/x-python",
   "name": "python",
   "nbconvert_exporter": "python",
   "pygments_lexer": "ipython3",
   "version": "3.9.12"
  }
 },
 "nbformat": 4,
 "nbformat_minor": 5
}
